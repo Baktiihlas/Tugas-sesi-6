{
 "cells": [
  {
   "cell_type": "code",
   "execution_count": 26,
   "id": "ac7dcb3d-435d-410c-8f09-44773b8992e5",
   "metadata": {},
   "outputs": [
    {
     "name": "stdin",
     "output_type": "stream",
     "text": [
      "Nama:  Jhon\n",
      "Umur:  45\n",
      "Tempat Tinggal:  New York\n",
      "Uang Tabungan dalam dollar:  15000000\n"
     ]
    },
    {
     "name": "stdout",
     "output_type": "stream",
     "text": [
      "Jhon kemungkinan adalah seorang anggota mafia dengan pangkat Don.\n"
     ]
    }
   ],
   "source": [
    "def cek_anggota_mafia(nama, umur, tempat_tinggal, tabungan):\n",
    "    if (umur > 40 and tempat_tinggal in ['Nevada', 'New York', 'Havana'] and tabungan > 10000000):\n",
    "        return f\"{nama} kemungkinan adalah seorang anggota mafia dengan pangkat Don.\"\n",
    "    elif (25 <= umur <= 40 and tempat_tinggal in ['New Jersey', 'Manhattan', 'Nevada'] and 1000000 <= tabungan <= 2000000):\n",
    "        return f\"{nama} kemungkinan adalah seorang anggota mafia dengan pangkat Underboss.\"\n",
    "    elif (18 <= umur <= 24 and tempat_tinggal in ['California', 'Detroit', 'Boston'] and tabungan < 1000000):\n",
    "        return f\"{nama} kemungkinan adalah seorang anggota mafia dengan pangkat Capo.\"\n",
    "    else:\n",
    "        return f\"{nama} tidak mencurigakan.\"\n",
    "\n",
    "# Input data\n",
    "nama = input(\"Nama: \")\n",
    "umur = int(input(\"Umur: \"))\n",
    "tempat_tinggal = input(\"Tempat Tinggal: \")\n",
    "tabungan = float(input(\"Uang Tabungan dalam dollar: \"))\n",
    "\n",
    "# Output hasil\n",
    "print(cek_anggota_mafia(nama, umur, tempat_tinggal, tabungan))"
   ]
  }
 ],
 "metadata": {
  "kernelspec": {
   "display_name": "Python 3 (ipykernel)",
   "language": "python",
   "name": "python3"
  },
  "language_info": {
   "codemirror_mode": {
    "name": "ipython",
    "version": 3
   },
   "file_extension": ".py",
   "mimetype": "text/x-python",
   "name": "python",
   "nbconvert_exporter": "python",
   "pygments_lexer": "ipython3",
   "version": "3.11.7"
  }
 },
 "nbformat": 4,
 "nbformat_minor": 5
}
